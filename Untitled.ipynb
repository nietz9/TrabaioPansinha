{
 "cells": [
  {
   "cell_type": "code",
   "execution_count": 1,
   "id": "cc8573bf",
   "metadata": {},
   "outputs": [],
   "source": [
    "# Otimiza o problema descrito em: http://www.schedulingbenchmarks.org/nrp/\n",
    "\n",
    "import gurobipy as gp\n",
    "from gurobipy import GRB\n",
    "\n",
    "datasetT = open('instancias/Instance1.txt')\n",
    "linha = datasetT.readline()"
   ]
  },
  {
   "cell_type": "code",
   "execution_count": 2,
   "id": "a6e25f81",
   "metadata": {},
   "outputs": [],
   "source": [
    "#cria um variável horizon com o valor de dias da instância\n",
    "while linha != 'SECTION_HORIZON\\n':\n",
    "    linha = datasetT.readline()\n",
    "\n",
    "linha = datasetT.readline()\n",
    "linha = datasetT.readline()\n",
    "  \n",
    "horizon = int(datasetT.readline())\n",
    "horizon = range(horizon)"
   ]
  },
  {
   "cell_type": "code",
   "execution_count": 3,
   "id": "9a0465b0",
   "metadata": {},
   "outputs": [],
   "source": [
    "#cria uma lista shifts com as especificações de cada plantão\n",
    "#shifts[i][j]\n",
    "#i = plantão\n",
    "#j = 0 -> ID do plantão\n",
    "#j = 1 -> Carga horária do plantão\n",
    "#j = 2 -> Lista com restrição de plantões subsequentes\n",
    "\n",
    "shifts = []\n",
    "\n",
    "while linha != 'SECTION_SHIFTS\\n':\n",
    "    linha = datasetT.readline()\n",
    "\n",
    "linha = datasetT.readline()\n",
    "linha = datasetT.readline()\n",
    "\n",
    "while linha != '\\n':\n",
    "    linha = linha.replace('\\n', '')\n",
    "    shifts.append(linha.split(','))\n",
    "    linha = datasetT.readline()\n",
    "    \n",
    "for i in shifts:\n",
    "    i[1] = int(i[1])\n",
    "    i[2] = i[2].split('|')"
   ]
  },
  {
   "cell_type": "code",
   "execution_count": 4,
   "id": "c4eba5bc",
   "metadata": {},
   "outputs": [],
   "source": [
    "#cria uma lista staff com as especificações de cada enfermeire\n",
    "#staff[i][j]\n",
    "#i = enfermeire\n",
    "#j = 0 -> ID de enfermeire\n",
    "#j = 1 -> Lista com valores máximo de cada plantão\n",
    "#j = 2 -> Qtd. máxima de minutos\n",
    "#j = 3 -> Qtd. mínima de minutos\n",
    "#j = 4 -> Qtd. máxima de plantões consecutivos\n",
    "#j = 5 -> Qtd. mínima de plantões consecutivos\n",
    "#j = 6 -> Qtd. mínima de folgas consecutivas\n",
    "#j = 7 -> Qtd. máxima de finais de semana\n",
    "\n",
    "staff = []\n",
    "\n",
    "while linha != 'SECTION_STAFF\\n':\n",
    "    linha = datasetT.readline()\n",
    "\n",
    "linha = datasetT.readline()\n",
    "linha = datasetT.readline()\n",
    "\n",
    "while linha != '\\n':\n",
    "    linha = linha.replace('\\n', '')\n",
    "    staff.append(linha.split(','))\n",
    "    linha = datasetT.readline()\n",
    "    \n",
    "for i in staff:\n",
    "    i[1] = i[1].split('|')\n",
    "    i[2] = int(i[2])\n",
    "    i[3] = int(i[3])\n",
    "    i[4] = int(i[4])\n",
    "    i[5] = int(i[5])\n",
    "    i[6] = int(i[6])\n",
    "    i[7] = int(i[7])"
   ]
  },
  {
   "cell_type": "code",
   "execution_count": 5,
   "id": "87f5f17f",
   "metadata": {},
   "outputs": [],
   "source": [
    "#cria uma lista dayOff com as folgas de cada enfermeire\n",
    "#dayOff[0] = ID Enfermeires\n",
    "#dayOff[1:] = Dias de folga\n",
    "\n",
    "dayOff = []\n",
    "\n",
    "while linha != 'SECTION_DAYS_OFF\\n':\n",
    "    linha = datasetT.readline()\n",
    "\n",
    "linha = datasetT.readline()\n",
    "linha = datasetT.readline()\n",
    "\n",
    "while linha != '\\n':\n",
    "    linha = linha.replace('\\n', '')\n",
    "    dayOff.append(linha.split(','))\n",
    "    linha = datasetT.readline()\n",
    "for i in dayOff:\n",
    "    if(len(dayOff)>1):\n",
    "        i[1] = int(i[1])\n",
    "    if(len(i)>2):\n",
    "        i[2] = int(i[2])\n",
    "    if(len(i)>3):\n",
    "        i[3] = int(i[3])\n",
    "    if(len(i)>4):\n",
    "        i[4] = int(i[4])\n",
    "    if(len(i)>5):\n",
    "        i[5] = int(i[5])\n",
    "    if(len(i)>6):\n",
    "        i[6] = int(i[6])\n",
    "    if(len(i)>7):\n",
    "        i[7] = int(i[7])\n",
    "    if(len(i)>8):\n",
    "        i[8] = int(i[8])\n",
    "    if(len(i)>9):\n",
    "        i[9] = int(i[9])\n",
    "    if(len(i)>10):\n",
    "        i[10] = int(i[10])"
   ]
  },
  {
   "cell_type": "code",
   "execution_count": 6,
   "id": "418ba0ba",
   "metadata": {},
   "outputs": [],
   "source": [
    "#cria um dictionary q com os pedidos dos funcionários\n",
    "#key -> tupla (i,d,t)\n",
    "#value -> Peso\n",
    "#\n",
    "#i -> ID de enfermeire\n",
    "#d -> Dia\n",
    "#t -> ID do plantão\n",
    "\n",
    "q = dict()\n",
    "\n",
    "while linha != 'SECTION_SHIFT_ON_REQUESTS\\n':\n",
    "    linha = datasetT.readline()\n",
    "\n",
    "linha = datasetT.readline()\n",
    "linha = datasetT.readline()\n",
    "\n",
    "while linha != '\\n':\n",
    "    linha = linha.replace('\\n', '')\n",
    "    linha = linha.split(',')\n",
    "    temp = (linha[0], int(linha[1]), linha[2])\n",
    "    q.update({temp : int(linha[3])})\n",
    "    linha = datasetT.readline()"
   ]
  },
  {
   "cell_type": "code",
   "execution_count": 7,
   "id": "1a440e81",
   "metadata": {},
   "outputs": [],
   "source": [
    "#cria um dictionary p com os pedidos dos funcionários\n",
    "#key -> tupla (i,d,t)\n",
    "#value -> Peso\n",
    "#\n",
    "#i -> ID de enfermeire\n",
    "#d -> Dia\n",
    "#t -> ID do plantão\n",
    "\n",
    "p = {}\n",
    "\n",
    "while linha != 'SECTION_SHIFT_OFF_REQUESTS\\n':\n",
    "    linha = datasetT.readline()\n",
    "\n",
    "linha = datasetT.readline()\n",
    "linha = datasetT.readline()\n",
    "\n",
    "while linha != '\\n':\n",
    "    linha = linha.replace('\\n', '')\n",
    "    linha = linha.split(',')\n",
    "    temp = (linha[0], int(linha[1]), linha[2])\n",
    "    p.update({temp : int(linha[3])})\n",
    "    linha = datasetT.readline()"
   ]
  },
  {
   "cell_type": "code",
   "execution_count": 8,
   "id": "e551e8aa",
   "metadata": {},
   "outputs": [],
   "source": [
    "#cria um dictionary u com os requisitos do problema\n",
    "#key -> tupla (d,t)\n",
    "#value -> tupla (n, u, o)\n",
    "#\n",
    "#d -> Dia\n",
    "#t -> ID do plantão\n",
    "#n -> Número de Funcionários esperados\n",
    "#u -> Peso para understaff\n",
    "#o -> Peso para overstaff\n",
    "\n",
    "u = dict()\n",
    "\n",
    "while linha != 'SECTION_COVER\\n':\n",
    "    linha = datasetT.readline()\n",
    "\n",
    "linha = datasetT.readline()\n",
    "linha = datasetT.readline()\n",
    "\n",
    "while linha != '':\n",
    "    linha = linha.replace('\\n', '')\n",
    "    linha = linha.split(',')\n",
    "    temp1 = (int(linha[0]), linha[1])\n",
    "    temp2 = (int(linha[2]), int(linha[3]), int(linha[4]))\n",
    "    u.update({temp1 : temp2})\n",
    "    linha = datasetT.readline()"
   ]
  },
  {
   "cell_type": "code",
   "execution_count": 9,
   "id": "c543163f",
   "metadata": {},
   "outputs": [],
   "source": [
    "indiceStaff=[]\n",
    "for i in staff:\n",
    "    indiceStaff.append(i[0])\n",
    "\n",
    "indiceDias=[]\n",
    "for d in horizon:\n",
    "    indiceDias.append(d)\n",
    "\n",
    "indicePlantao=[]\n",
    "for t in shifts:\n",
    "    indicePlantao.append(t[0])"
   ]
  },
  {
   "cell_type": "code",
   "execution_count": 10,
   "id": "402c8ad0",
   "metadata": {},
   "outputs": [
    {
     "name": "stdout",
     "output_type": "stream",
     "text": [
      "Restricted license - for non-production use only - expires 2022-01-13\n"
     ]
    }
   ],
   "source": [
    "#Cria modelo gurobi\n",
    "mod = gp.Model()\n",
    "\n",
    "#Variáveis de escolha\n",
    "x = mod.addVars(indiceStaff, indiceDias, indicePlantao, vtype=gp.GRB.BINARY)\n",
    "\n",
    "#Função Objetivo\n",
    "mod.setObjective(\n",
    "    gp.quicksum(q.get( (i,d,t), 0 ) * (1-(x[i,d,t])) for i in indiceStaff for d in indiceDias for t in indicePlantao)+\n",
    "    gp.quicksum(p.get( (i,d,t), 0 ) * x[i,d,t] for i in indiceStaff for d in indiceDias for t in indicePlantao)\n",
    "    , sense = gp.GRB.MINIMIZE)\n",
    "\n",
    "#Restrições\n",
    "res1 = mod.addConstrs(gp.quicksum(x[i,d,t] for t in indicePlantao) <= 1 for i in indiceStaff for d in indiceDias)\n",
    "res10 = mod.addConstrs(gp.quicksum((x[i,d,t]-) for i in indiceStaff ) == u.get((d,t))[0] for d in indiceDias for t in indicePlantao)"
   ]
  },
  {
   "cell_type": "code",
   "execution_count": 13,
   "id": "212d43c6",
   "metadata": {},
   "outputs": [
    {
     "name": "stdout",
     "output_type": "stream",
     "text": [
      "\n",
      "Statistics for model Unnamed :\n",
      "  Linear constraint matrix    : 126 Constrs, 112 Vars, 224 NZs\n",
      "  Variable types              : 0 Continuous, 112 Integer (112 Binary)\n",
      "  Matrix coefficient range    : [ 1, 1 ]\n",
      "  Objective coefficient range : [ 1, 3 ]\n",
      "  Variable bound range        : [ 1, 1 ]\n",
      "  RHS coefficient range       : [ 1, 7 ]\n"
     ]
    }
   ],
   "source": [
    "mod.setParam(gp.GRB.Param.OutputFlag,0)\n",
    "mod.optimize()\n",
    "mod.printStats()"
   ]
  },
  {
   "cell_type": "code",
   "execution_count": 12,
   "id": "7dfb3bde",
   "metadata": {},
   "outputs": [
    {
     "ename": "TypeError",
     "evalue": "unhashable type: 'list'",
     "output_type": "error",
     "traceback": [
      "\u001b[1;31m---------------------------------------------------------------------------\u001b[0m",
      "\u001b[1;31mTypeError\u001b[0m                                 Traceback (most recent call last)",
      "\u001b[1;32m<ipython-input-12-b1e3ee8a3bfc>\u001b[0m in \u001b[0;36m<module>\u001b[1;34m\u001b[0m\n\u001b[0;32m      2\u001b[0m     \u001b[1;32mfor\u001b[0m \u001b[0md\u001b[0m \u001b[1;32min\u001b[0m \u001b[0mhorizon\u001b[0m\u001b[1;33m:\u001b[0m\u001b[1;33m\u001b[0m\u001b[1;33m\u001b[0m\u001b[0m\n\u001b[0;32m      3\u001b[0m         \u001b[1;32mfor\u001b[0m \u001b[0mt\u001b[0m \u001b[1;32min\u001b[0m \u001b[0mshifts\u001b[0m\u001b[1;33m:\u001b[0m\u001b[1;33m\u001b[0m\u001b[1;33m\u001b[0m\u001b[0m\n\u001b[1;32m----> 4\u001b[1;33m             \u001b[0mprint\u001b[0m\u001b[1;33m(\u001b[0m\u001b[0mx\u001b[0m\u001b[1;33m[\u001b[0m\u001b[0mi\u001b[0m\u001b[1;33m,\u001b[0m\u001b[0md\u001b[0m\u001b[1;33m,\u001b[0m\u001b[0mt\u001b[0m\u001b[1;33m]\u001b[0m\u001b[1;33m)\u001b[0m\u001b[1;33m\u001b[0m\u001b[1;33m\u001b[0m\u001b[0m\n\u001b[0m",
      "\u001b[1;31mTypeError\u001b[0m: unhashable type: 'list'"
     ]
    }
   ],
   "source": [
    "for i in staff:\n",
    "    for d in horizon:\n",
    "        for t in shifts:\n",
    "            print(x[i,d,t])"
   ]
  },
  {
   "cell_type": "code",
   "execution_count": null,
   "id": "dafa5276",
   "metadata": {},
   "outputs": [],
   "source": []
  }
 ],
 "metadata": {
  "kernelspec": {
   "display_name": "Python 3",
   "language": "python",
   "name": "python3"
  },
  "language_info": {
   "codemirror_mode": {
    "name": "ipython",
    "version": 3
   },
   "file_extension": ".py",
   "mimetype": "text/x-python",
   "name": "python",
   "nbconvert_exporter": "python",
   "pygments_lexer": "ipython3",
   "version": "3.8.8"
  }
 },
 "nbformat": 4,
 "nbformat_minor": 5
}

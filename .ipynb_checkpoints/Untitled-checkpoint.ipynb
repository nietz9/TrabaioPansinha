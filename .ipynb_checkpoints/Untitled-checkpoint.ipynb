{
 "cells": [
  {
   "cell_type": "code",
   "execution_count": 1,
   "id": "cc8573bf",
   "metadata": {},
   "outputs": [],
   "source": [
    "# Otimiza o problema descrito em: http://www.schedulingbenchmarks.org/nrp/\n",
    "\n",
    "import gurobipy as gp\n",
    "from gurobipy import GRB\n",
    "\n",
    "datasetT = open('instancias/Instance2.txt')\n",
    "linha = datasetT.readline()"
   ]
  },
  {
   "cell_type": "code",
   "execution_count": 2,
   "id": "a6e25f81",
   "metadata": {},
   "outputs": [],
   "source": [
    "#cria um variável horizon com o valor de dias da instância\n",
    "while linha != 'SECTION_HORIZON\\n':\n",
    "    linha = datasetT.readline()\n",
    "\n",
    "linha = datasetT.readline()\n",
    "linha = datasetT.readline()\n",
    "  \n",
    "horizon = int(datasetT.readline())\n",
    "horizon2 = range(horizon-1) \n",
    "horizon = range(horizon)"
   ]
  },
  {
   "cell_type": "code",
   "execution_count": 3,
   "id": "9a0465b0",
   "metadata": {},
   "outputs": [],
   "source": [
    "#cria um dictionary shifts com as especificações de cada plantão\n",
    "#key -> ID do plantão\n",
    "#value -> tupla (h,r)\n",
    "#\n",
    "#h -> Carga horária do plantão\n",
    "#r -> Lista com restrição de plantões subsequentes\n",
    "\n",
    "shifts = dict()\n",
    "\n",
    "while linha != 'SECTION_SHIFTS\\n':\n",
    "    linha = datasetT.readline()\n",
    "\n",
    "linha = datasetT.readline()\n",
    "linha = datasetT.readline()\n",
    "\n",
    "while linha != '\\n':\n",
    "    linha = linha.replace('\\n', '')\n",
    "    linha = linha.split(',')\n",
    "    linha[1] = int(linha[1])\n",
    "    linha[2] = linha[2].split('|')\n",
    "    temp1 = linha[0]\n",
    "    temp2 = (linha[1], linha[2])\n",
    "    shifts.update({temp1:temp2})\n",
    "    linha = datasetT.readline()"
   ]
  },
  {
   "cell_type": "code",
   "execution_count": 4,
   "id": "c4eba5bc",
   "metadata": {},
   "outputs": [],
   "source": [
    "#cria uma lista staff com as especificações de cada enfermeire\n",
    "#staff[i][j]\n",
    "#i = enfermeire\n",
    "#j = 0 -> ID de enfermeire\n",
    "#j = 1 -> Lista com valores máximo de cada plantão\n",
    "#j = 2 -> Qtd. máxima de minutos\n",
    "#j = 3 -> Qtd. mínima de minutos\n",
    "#j = 4 -> Qtd. máxima de plantões consecutivos\n",
    "#j = 5 -> Qtd. mínima de plantões consecutivos\n",
    "#j = 6 -> Qtd. mínima de folgas consecutivas\n",
    "#j = 7 -> Qtd. máxima de finais de semana\n",
    "\n",
    "staff = []\n",
    "\n",
    "while linha != 'SECTION_STAFF\\n':\n",
    "    linha = datasetT.readline()\n",
    "\n",
    "linha = datasetT.readline()\n",
    "linha = datasetT.readline()\n",
    "\n",
    "while linha != '\\n':\n",
    "    linha = linha.replace('\\n', '')\n",
    "    staff.append(linha.split(','))\n",
    "    linha = datasetT.readline()\n",
    "    \n",
    "for i in staff:\n",
    "    i[1] = i[1].split('|')\n",
    "    i[2] = int(i[2])\n",
    "    i[3] = int(i[3])\n",
    "    i[4] = int(i[4])\n",
    "    i[5] = int(i[5])\n",
    "    i[6] = int(i[6])\n",
    "    i[7] = int(i[7])"
   ]
  },
  {
   "cell_type": "code",
   "execution_count": 5,
   "id": "87f5f17f",
   "metadata": {},
   "outputs": [],
   "source": [
    "#cria uma lista dayOff com as folgas de cada enfermeire\n",
    "#dayOff[0] = ID Enfermeires\n",
    "#dayOff[1:] = Dias de folga\n",
    "\n",
    "dayOff = dict()\n",
    "\n",
    "while linha != 'SECTION_DAYS_OFF\\n':\n",
    "    linha = datasetT.readline()\n",
    "\n",
    "linha = datasetT.readline()\n",
    "linha = datasetT.readline()\n",
    "\n",
    "while linha != '\\n':\n",
    "    linha = linha.replace('\\n', '')\n",
    "    temp2 = linha.split(',')\n",
    "    temp1 = temp2.pop(0)\n",
    "    for i in range(len(temp2)):\n",
    "        temp2[i] = int(temp2[i]) \n",
    "    dayOff.update({temp1:temp2})\n",
    "    linha = datasetT.readline()"
   ]
  },
  {
   "cell_type": "code",
   "execution_count": 6,
   "id": "418ba0ba",
   "metadata": {},
   "outputs": [],
   "source": [
    "#cria um dictionary q com os pedidos dos funcionários\n",
    "#key -> tupla (i,d,t)\n",
    "#value -> Peso\n",
    "#\n",
    "#i -> ID de enfermeire\n",
    "#d -> Dia\n",
    "#t -> ID do plantão\n",
    "\n",
    "q = dict()\n",
    "\n",
    "while linha != 'SECTION_SHIFT_ON_REQUESTS\\n':\n",
    "    linha = datasetT.readline()\n",
    "\n",
    "linha = datasetT.readline()\n",
    "linha = datasetT.readline()\n",
    "\n",
    "while linha != '\\n':\n",
    "    linha = linha.replace('\\n', '')\n",
    "    linha = linha.split(',')\n",
    "    temp = (linha[0], int(linha[1]), linha[2])\n",
    "    q.update({temp : int(linha[3])})\n",
    "    linha = datasetT.readline()"
   ]
  },
  {
   "cell_type": "code",
   "execution_count": 7,
   "id": "1a440e81",
   "metadata": {},
   "outputs": [],
   "source": [
    "#cria um dictionary p com os pedidos dos funcionários\n",
    "#key -> tupla (i,d,t)\n",
    "#value -> Peso\n",
    "#\n",
    "#i -> ID de enfermeire\n",
    "#d -> Dia\n",
    "#t -> ID do plantão\n",
    "\n",
    "p = {}\n",
    "\n",
    "while linha != 'SECTION_SHIFT_OFF_REQUESTS\\n':\n",
    "    linha = datasetT.readline()\n",
    "\n",
    "linha = datasetT.readline()\n",
    "linha = datasetT.readline()\n",
    "\n",
    "while linha != '\\n':\n",
    "    linha = linha.replace('\\n', '')\n",
    "    linha = linha.split(',')\n",
    "    temp = (linha[0], int(linha[1]), linha[2])\n",
    "    p.update({temp : int(linha[3])})\n",
    "    linha = datasetT.readline()"
   ]
  },
  {
   "cell_type": "code",
   "execution_count": 8,
   "id": "e551e8aa",
   "metadata": {},
   "outputs": [],
   "source": [
    "#cria um dictionary u com os requisitos do problema\n",
    "#key -> tupla (d,t)\n",
    "#value -> tupla (n, under, over)\n",
    "#\n",
    "#d -> Dia\n",
    "#t -> ID do plantão\n",
    "#n -> Número de Funcionários esperados\n",
    "#under -> Peso para understaff\n",
    "#over -> Peso para overstaff\n",
    "\n",
    "u = dict()\n",
    "\n",
    "while linha != 'SECTION_COVER\\n':\n",
    "    linha = datasetT.readline()\n",
    "\n",
    "linha = datasetT.readline()\n",
    "linha = datasetT.readline()\n",
    "\n",
    "while linha != '':\n",
    "    linha = linha.replace('\\n', '')\n",
    "    linha = linha.split(',')\n",
    "    temp1 = (int(linha[0]), linha[1])\n",
    "    temp2 = (int(linha[2]), int(linha[3]), int(linha[4]))\n",
    "    u.update({temp1 : temp2})\n",
    "    linha = datasetT.readline()"
   ]
  },
  {
   "cell_type": "code",
   "execution_count": 9,
   "id": "c543163f",
   "metadata": {},
   "outputs": [],
   "source": [
    "indiceStaff=[]\n",
    "for i in staff:\n",
    "    indiceStaff.append(i[0])\n",
    "\n",
    "indiceDias=[]\n",
    "for d in horizon:\n",
    "    indiceDias.append(d)\n",
    "    \n",
    "indiceDias2=[]\n",
    "for d in horizon2:\n",
    "    indiceDias2.append(d)\n",
    "\n",
    "indicePlantao=[]\n",
    "for t in shifts.keys():\n",
    "    indicePlantao.append(t)"
   ]
  },
  {
   "cell_type": "code",
   "execution_count": 10,
   "id": "402c8ad0",
   "metadata": {},
   "outputs": [
    {
     "name": "stdout",
     "output_type": "stream",
     "text": [
      "Restricted license - for non-production use only - expires 2022-01-13\n"
     ]
    }
   ],
   "source": [
    "#Cria modelo gurobi\n",
    "mod = gp.Model()\n",
    "\n",
    "#Variáveis de escolha\n",
    "x = mod.addVars(indiceStaff, indiceDias, indicePlantao, vtype=gp.GRB.BINARY)\n",
    "z = mod.addVars(indiceDias, indicePlantao, vtype=gp.GRB.INTEGER)\n",
    "y = mod.addVars(indiceDias, indicePlantao, vtype=gp.GRB.INTEGER)\n",
    "\n",
    "#Função Objetivo\n",
    "mod.setObjective(\n",
    "    gp.quicksum(q.get( (i,d,t), 0 ) * (1-(x[i,d,t])) for i in indiceStaff for d in indiceDias for t in indicePlantao)+\n",
    "    gp.quicksum(p.get( (i,d,t), 0 ) * x[i,d,t] for i in indiceStaff for d in indiceDias for t in indicePlantao)+\n",
    "    gp.quicksum( y[d,t] * u[d,t][1] for d in indiceDias for t in indicePlantao)+\n",
    "    gp.quicksum( z[d,t] * u[d,t][2] for d in indiceDias for t in indicePlantao)\n",
    "    , sense = gp.GRB.MINIMIZE)\n",
    "\n",
    "#Restrições\n",
    "res1 = mod.addConstrs(gp.quicksum(x[i,d,t] for t in indicePlantao) <= 1 for i in indiceStaff for d in indiceDias)\n",
    "res10 = mod.addConstrs((gp.quicksum(x[i,d,t] for i in indiceStaff ) - z[d,t] + y[d,t]) == u.get((d,t))[0] for d in indiceDias for t in indicePlantao)\n",
    "res9 = mod.addConstrs(x[i,d,t] == 0 for i in indiceStaff for d in dayOff.get(i) for t in indicePlantao)\n",
    "#res2 = mod.addConstrs(x[i,d,t] + x[i,d,u] <= 1 for i in indiceStaff for d in indiceDias2 for t in indicePlantao for u in shifts.get(t)[1])"
   ]
  },
  {
   "cell_type": "code",
   "execution_count": 11,
   "id": "aa75dd3b",
   "metadata": {},
   "outputs": [
    {
     "name": "stdout",
     "output_type": "stream",
     "text": [
      "Gurobi Optimizer version 9.1.2 build v9.1.2rc0 (win64)\n",
      "Thread count: 4 physical cores, 4 logical processors, using up to 4 threads\n",
      "Optimize a model with 252 rows, 448 columns and 868 nonzeros\n",
      "Model fingerprint: 0x1056efdf\n",
      "Variable types: 0 continuous, 448 integer (392 binary)\n",
      "Coefficient statistics:\n",
      "  Matrix range     [1e+00, 1e+00]\n",
      "  Objective range  [1e+00, 1e+02]\n",
      "  Bounds range     [1e+00, 1e+00]\n",
      "  RHS range        [1e+00, 6e+00]\n",
      "Found heuristic solution: objective 10882.000000\n",
      "Presolve removed 236 rows and 416 columns\n",
      "Presolve time: 0.01s\n",
      "Presolved: 16 rows, 32 columns, 60 nonzeros\n",
      "Found heuristic solution: objective 103.0000000\n",
      "Variable types: 0 continuous, 32 integer (28 binary)\n",
      "\n",
      "Root relaxation: objective 3.000000e+00, 3 iterations, 0.00 seconds\n",
      "\n",
      "    Nodes    |    Current Node    |     Objective Bounds      |     Work\n",
      " Expl Unexpl |  Obj  Depth IntInf | Incumbent    BestBd   Gap | It/Node Time\n",
      "\n",
      "*    0     0               0       3.0000000    3.00000  0.00%     -    0s\n",
      "\n",
      "Explored 0 nodes (3 simplex iterations) in 0.03 seconds\n",
      "Thread count was 4 (of 4 available processors)\n",
      "\n",
      "Solution count 3: 3 103 10882 \n",
      "\n",
      "Optimal solution found (tolerance 1.00e-04)\n",
      "Best objective 3.000000000000e+00, best bound 3.000000000000e+00, gap 0.0000%\n"
     ]
    }
   ],
   "source": [
    "mod.optimize()"
   ]
  },
  {
   "cell_type": "code",
   "execution_count": 12,
   "id": "c7856a5c",
   "metadata": {},
   "outputs": [
    {
     "data": {
      "text/plain": [
       "[0, 1, 2, 3, 4, 5, 6, 7, 8, 9, 10, 11, 12, 13]"
      ]
     },
     "execution_count": 12,
     "metadata": {},
     "output_type": "execute_result"
    }
   ],
   "source": [
    "indiceDias"
   ]
  },
  {
   "cell_type": "code",
   "execution_count": null,
   "id": "cdc5848b",
   "metadata": {},
   "outputs": [],
   "source": []
  }
 ],
 "metadata": {
  "kernelspec": {
   "display_name": "Python 3",
   "language": "python",
   "name": "python3"
  },
  "language_info": {
   "codemirror_mode": {
    "name": "ipython",
    "version": 3
   },
   "file_extension": ".py",
   "mimetype": "text/x-python",
   "name": "python",
   "nbconvert_exporter": "python",
   "pygments_lexer": "ipython3",
   "version": "3.8.8"
  }
 },
 "nbformat": 4,
 "nbformat_minor": 5
}
